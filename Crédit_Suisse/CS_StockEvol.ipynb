{
 "cells": [
  {
   "cell_type": "code",
   "execution_count": 1,
   "metadata": {},
   "outputs": [],
   "source": [
    "import yfinance as yf\n",
    "import pandas as pd\n",
    "import matplotlib.pyplot as plt\n"
   ]
  },
  {
   "cell_type": "code",
   "execution_count": null,
   "metadata": {},
   "outputs": [],
   "source": [
    "\n",
    "# Download historical stock price data of Crédit Suisse from Yahoo Finance\n",
    "ticker = \"CSGN.SW\"  # Crédit Suisse ticker symbol on the Swiss Exchange\n",
    "start_date = \"1997-11-13\"  # Date of first trading day of Crédit Suisse\n",
    "end_date = pd.Timestamp.today().strftime(\"%Y-%m-%d\")  # Current date\n",
    "data = yf.download(ticker, start=start_date, end=end_date)\n",
    "\n",
    "# Create a plot of the historical stock price data\n",
    "fig, ax = plt.subplots()\n",
    "ax.plot(data[\"Adj Close\"])\n",
    "ax.set_xlabel(\"Date\")\n",
    "ax.set_ylabel(\"Stock Price (CHF)\")\n",
    "ax.set_title(\"Historical Stock Price of Crédit Suisse\")\n",
    "plt.show()\n",
    "\n",
    "# Print the historical stock price data\n",
    "print(data)\n"
   ]
  }
 ],
 "metadata": {
  "kernelspec": {
   "display_name": "Python 3",
   "language": "python",
   "name": "python3"
  },
  "language_info": {
   "codemirror_mode": {
    "name": "ipython",
    "version": 3
   },
   "file_extension": ".py",
   "mimetype": "text/x-python",
   "name": "python",
   "nbconvert_exporter": "python",
   "pygments_lexer": "ipython3",
   "version": "3.10.10"
  },
  "orig_nbformat": 4
 },
 "nbformat": 4,
 "nbformat_minor": 2
}
